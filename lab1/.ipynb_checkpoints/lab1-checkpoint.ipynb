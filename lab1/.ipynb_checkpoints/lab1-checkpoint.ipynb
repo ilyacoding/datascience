{
 "cells": [
  {
   "cell_type": "markdown",
   "metadata": {},
   "source": [
    "# ml lab1"
   ]
  },
  {
   "cell_type": "code",
   "execution_count": null,
   "metadata": {},
   "outputs": [],
   "source": [
    "import numpy as np\n",
    "import pandas as pd\n",
    "import matplotlib.pyplot as plt\n",
    "\n",
    "pd.set_option('display.max_rows', 10)"
   ]
  },
  {
   "cell_type": "markdown",
   "metadata": {},
   "source": [
    "### 1. read ex1 data"
   ]
  },
  {
   "cell_type": "code",
   "execution_count": null,
   "metadata": {},
   "outputs": [],
   "source": [
    "data1 = np.genfromtxt('data/ex1data1.txt', delimiter=',')\n",
    "rest = pd.DataFrame(data1, columns=['Population', 'Income'])\n",
    "rest"
   ]
  },
  {
   "cell_type": "markdown",
   "metadata": {},
   "source": [
    "### 2. plot data"
   ]
  },
  {
   "cell_type": "code",
   "execution_count": 4,
   "metadata": {},
   "outputs": [
    {
     "ename": "NameError",
     "evalue": "global name 'plt' is not defined",
     "output_type": "error",
     "traceback": [
      "\u001b[0;31m---------------------------------------------------------------------------\u001b[0m",
      "\u001b[0;31mNameError\u001b[0m                                 Traceback (most recent call last)",
      "\u001b[0;32m<ipython-input-4-5d4f70a7148a>\u001b[0m in \u001b[0;36m<module>\u001b[0;34m()\u001b[0m\n\u001b[1;32m      7\u001b[0m     \u001b[0;32mreturn\u001b[0m \u001b[0mplt\u001b[0m\u001b[0;34m\u001b[0m\u001b[0m\n\u001b[1;32m      8\u001b[0m \u001b[0;34m\u001b[0m\u001b[0m\n\u001b[0;32m----> 9\u001b[0;31m \u001b[0mplot\u001b[0m \u001b[0;34m=\u001b[0m \u001b[0mget_plot\u001b[0m\u001b[0;34m(\u001b[0m\u001b[0;34m)\u001b[0m\u001b[0;34m\u001b[0m\u001b[0m\n\u001b[0m\u001b[1;32m     10\u001b[0m \u001b[0mplot\u001b[0m\u001b[0;34m.\u001b[0m\u001b[0mshow\u001b[0m\u001b[0;34m(\u001b[0m\u001b[0;34m)\u001b[0m\u001b[0;34m\u001b[0m\u001b[0m\n",
      "\u001b[0;32m<ipython-input-4-5d4f70a7148a>\u001b[0m in \u001b[0;36mget_plot\u001b[0;34m()\u001b[0m\n\u001b[1;32m      1\u001b[0m \u001b[0;32mdef\u001b[0m \u001b[0mget_plot\u001b[0m\u001b[0;34m(\u001b[0m\u001b[0;34m)\u001b[0m\u001b[0;34m:\u001b[0m\u001b[0;34m\u001b[0m\u001b[0m\n\u001b[0;32m----> 2\u001b[0;31m     \u001b[0mplt\u001b[0m\u001b[0;34m.\u001b[0m\u001b[0mfigure\u001b[0m\u001b[0;34m(\u001b[0m\u001b[0mfigsize\u001b[0m\u001b[0;34m=\u001b[0m\u001b[0;34m(\u001b[0m\u001b[0;36m10\u001b[0m\u001b[0;34m,\u001b[0m \u001b[0;36m6\u001b[0m\u001b[0;34m)\u001b[0m\u001b[0;34m)\u001b[0m\u001b[0;34m\u001b[0m\u001b[0m\n\u001b[0m\u001b[1;32m      3\u001b[0m     \u001b[0mplt\u001b[0m\u001b[0;34m.\u001b[0m\u001b[0mgrid\u001b[0m\u001b[0;34m(\u001b[0m\u001b[0mTrue\u001b[0m\u001b[0;34m)\u001b[0m\u001b[0;34m\u001b[0m\u001b[0m\n\u001b[1;32m      4\u001b[0m     \u001b[0mplt\u001b[0m\u001b[0;34m.\u001b[0m\u001b[0mylabel\u001b[0m\u001b[0;34m(\u001b[0m\u001b[0;34m'Income, $10.000'\u001b[0m\u001b[0;34m)\u001b[0m\u001b[0;34m\u001b[0m\u001b[0m\n\u001b[1;32m      5\u001b[0m     \u001b[0mplt\u001b[0m\u001b[0;34m.\u001b[0m\u001b[0mxlabel\u001b[0m\u001b[0;34m(\u001b[0m\u001b[0;34m'Population of City, 10.000'\u001b[0m\u001b[0;34m)\u001b[0m\u001b[0;34m\u001b[0m\u001b[0m\n",
      "\u001b[0;31mNameError\u001b[0m: global name 'plt' is not defined"
     ]
    }
   ],
   "source": [
    "def get_plot():\n",
    "    plt.figure(figsize=(10, 6))\n",
    "    plt.grid(True)\n",
    "    plt.ylabel('Income, $10.000')\n",
    "    plt.xlabel('Population of City, 10.000')\n",
    "    plt.plot(rest['Population'], rest['Income'], 'rx', markersize=10, label='Training Data')\n",
    "    return plt\n",
    "\n",
    "plot = get_plot()\n",
    "plot.show()"
   ]
  },
  {
   "cell_type": "markdown",
   "metadata": {},
   "source": [
    "### 3. cost function J(θ)"
   ]
  },
  {
   "cell_type": "code",
   "execution_count": null,
   "metadata": {},
   "outputs": [],
   "source": [
    "# Linear hypothesis function\n",
    "def h(X, theta): \n",
    "    return np.dot(X, theta)\n",
    "\n",
    "# J = compute_cost(X, y, theta)\n",
    "# computes the cost of using theta as the parameter for linear regression to fit the data points in X and y\n",
    "def compute_cost(X, y, theta):\n",
    "    m = y.size\n",
    "    loss = h(X, theta) - y\n",
    "    return np.sum(np.square(loss)) / (2. * m)"
   ]
  },
  {
   "cell_type": "code",
   "execution_count": null,
   "metadata": {},
   "outputs": [],
   "source": [
    "(_, n) = rest.shape\n",
    "theta = np.zeros((1, n)).T\n",
    "\n",
    "X1 = rest[['Population']]\n",
    "X1.insert(0, 'theta_0', 1)\n",
    "y1 = rest[['Income']]\n",
    "\n",
    "J = compute_cost(X1, y1, theta)\n",
    "print(f'theta:\\t{theta.ravel()}\\nJ:\\t{float(J)}')"
   ]
  },
  {
   "cell_type": "markdown",
   "metadata": {},
   "source": [
    "### 4. gradient descent"
   ]
  },
  {
   "cell_type": "code",
   "execution_count": null,
   "metadata": {},
   "outputs": [],
   "source": [
    "# Performs gradient descent to learn theta\n",
    "def gradient_descent(X, y, theta, alpha=0.01, iterations=1500):\n",
    "    m = y.size\n",
    "    J_history = []\n",
    "    XT = X.T\n",
    "\n",
    "    for i in range(iterations):\n",
    "        loss = h(X, theta) - y\n",
    "        gradient = np.dot(XT, loss) / m\n",
    "        theta -= alpha * gradient\n",
    "        J_history.append(compute_cost(X, y, theta))\n",
    "    return theta, J_history\n",
    "\n",
    "theta, j_history = gradient_descent(X1, y1, theta)\n",
    "print(f'computed theta: {theta.ravel()}')"
   ]
  },
  {
   "cell_type": "code",
   "execution_count": null,
   "metadata": {},
   "outputs": [],
   "source": [
    "sample_population = [3, 11, 15, 16, 18.5]\n",
    "predicted_income = [np.dot([1, x], theta).sum() for x in sample_population]\n",
    "pd.DataFrame(zip(sample_population, predicted_income), columns=['Sample Population', 'Predicted Income'])"
   ]
  },
  {
   "cell_type": "code",
   "execution_count": null,
   "metadata": {},
   "outputs": [],
   "source": [
    "h_values = [np.dot(x, theta).sum() for x in X1.to_numpy()]\n",
    "\n",
    "plot = get_plot()\n",
    "plot.plot(rest['Population'], h_values, 'b-', label='Hypothesis')\n",
    "plot.legend()\n",
    "plot.show()"
   ]
  },
  {
   "cell_type": "markdown",
   "metadata": {},
   "source": [
    "###  5. visualizing J(θ)"
   ]
  },
  {
   "cell_type": "code",
   "execution_count": null,
   "metadata": {},
   "outputs": [],
   "source": [
    "# grid coordinates for plotting\n",
    "xvals = np.linspace(-10, 10, 50)\n",
    "yvals = np.linspace(-1, 4, 50)\n",
    "xx, yy = np.meshgrid(xvals, yvals, indexing='xy')\n",
    "Z = np.zeros((xvals.size, yvals.size))\n",
    "\n",
    "# calculate Z-values (Cost) based on grid of coefficients\n",
    "for (i, j), v in np.ndenumerate(Z):\n",
    "    Z[i, j] = compute_cost(X1, y1, theta=[[xx[i, j]], [yy[i, j]]])"
   ]
  },
  {
   "cell_type": "code",
   "execution_count": null,
   "metadata": {},
   "outputs": [],
   "source": [
    "from mpl_toolkits.mplot3d import axes3d\n",
    "\n",
    "fig = plt.figure(figsize=(15, 6))\n",
    "ax1 = fig.add_subplot(1, 2, 1)\n",
    "ax2 = fig.add_subplot(1, 2, 2, projection='3d')\n",
    "\n",
    "# left plot\n",
    "CS = ax1.contour(xx, yy, Z, np.logspace(-2, 3, 20), cmap=plt.cm.jet)\n",
    "ax1.scatter(*theta, c='r')\n",
    "\n",
    "# right plot\n",
    "ax2.plot_surface(xx, yy, Z, rstride=1, cstride=1, alpha=0.6, cmap=plt.cm.jet)\n",
    "ax2.set_zlabel('Cost')\n",
    "ax2.set_zlim(Z.min(), Z.max())\n",
    "ax2.view_init(elev=15, azim=230)\n",
    "\n",
    "# settings common to both plots\n",
    "for ax in fig.axes:\n",
    "    ax.set_xlabel(r'$\\theta_0$', fontsize=17)\n",
    "    ax.set_ylabel(r'$\\theta_1$', fontsize=17)"
   ]
  },
  {
   "cell_type": "markdown",
   "metadata": {},
   "source": [
    "### 6. read ex2 data"
   ]
  },
  {
   "cell_type": "code",
   "execution_count": 364,
   "metadata": {},
   "outputs": [
    {
     "data": {
      "text/html": [
       "<div>\n",
       "<style scoped>\n",
       "    .dataframe tbody tr th:only-of-type {\n",
       "        vertical-align: middle;\n",
       "    }\n",
       "\n",
       "    .dataframe tbody tr th {\n",
       "        vertical-align: top;\n",
       "    }\n",
       "\n",
       "    .dataframe thead th {\n",
       "        text-align: right;\n",
       "    }\n",
       "</style>\n",
       "<table border=\"1\" class=\"dataframe\">\n",
       "  <thead>\n",
       "    <tr style=\"text-align: right;\">\n",
       "      <th></th>\n",
       "      <th>Area</th>\n",
       "      <th>Bedrooms</th>\n",
       "      <th>Price</th>\n",
       "    </tr>\n",
       "  </thead>\n",
       "  <tbody>\n",
       "    <tr>\n",
       "      <th>0</th>\n",
       "      <td>2104.0</td>\n",
       "      <td>3.0</td>\n",
       "      <td>399900.0</td>\n",
       "    </tr>\n",
       "    <tr>\n",
       "      <th>1</th>\n",
       "      <td>1600.0</td>\n",
       "      <td>3.0</td>\n",
       "      <td>329900.0</td>\n",
       "    </tr>\n",
       "    <tr>\n",
       "      <th>2</th>\n",
       "      <td>2400.0</td>\n",
       "      <td>3.0</td>\n",
       "      <td>369000.0</td>\n",
       "    </tr>\n",
       "    <tr>\n",
       "      <th>3</th>\n",
       "      <td>1416.0</td>\n",
       "      <td>2.0</td>\n",
       "      <td>232000.0</td>\n",
       "    </tr>\n",
       "    <tr>\n",
       "      <th>4</th>\n",
       "      <td>3000.0</td>\n",
       "      <td>4.0</td>\n",
       "      <td>539900.0</td>\n",
       "    </tr>\n",
       "    <tr>\n",
       "      <th>...</th>\n",
       "      <td>...</td>\n",
       "      <td>...</td>\n",
       "      <td>...</td>\n",
       "    </tr>\n",
       "    <tr>\n",
       "      <th>42</th>\n",
       "      <td>2567.0</td>\n",
       "      <td>4.0</td>\n",
       "      <td>314000.0</td>\n",
       "    </tr>\n",
       "    <tr>\n",
       "      <th>43</th>\n",
       "      <td>1200.0</td>\n",
       "      <td>3.0</td>\n",
       "      <td>299000.0</td>\n",
       "    </tr>\n",
       "    <tr>\n",
       "      <th>44</th>\n",
       "      <td>852.0</td>\n",
       "      <td>2.0</td>\n",
       "      <td>179900.0</td>\n",
       "    </tr>\n",
       "    <tr>\n",
       "      <th>45</th>\n",
       "      <td>1852.0</td>\n",
       "      <td>4.0</td>\n",
       "      <td>299900.0</td>\n",
       "    </tr>\n",
       "    <tr>\n",
       "      <th>46</th>\n",
       "      <td>1203.0</td>\n",
       "      <td>3.0</td>\n",
       "      <td>239500.0</td>\n",
       "    </tr>\n",
       "  </tbody>\n",
       "</table>\n",
       "<p>47 rows × 3 columns</p>\n",
       "</div>"
      ],
      "text/plain": [
       "      Area  Bedrooms     Price\n",
       "0   2104.0       3.0  399900.0\n",
       "1   1600.0       3.0  329900.0\n",
       "2   2400.0       3.0  369000.0\n",
       "3   1416.0       2.0  232000.0\n",
       "4   3000.0       4.0  539900.0\n",
       "..     ...       ...       ...\n",
       "42  2567.0       4.0  314000.0\n",
       "43  1200.0       3.0  299000.0\n",
       "44   852.0       2.0  179900.0\n",
       "45  1852.0       4.0  299900.0\n",
       "46  1203.0       3.0  239500.0\n",
       "\n",
       "[47 rows x 3 columns]"
      ]
     },
     "execution_count": 364,
     "metadata": {},
     "output_type": "execute_result"
    }
   ],
   "source": [
    "data2 = np.genfromtxt('data/ex1data2.txt', delimiter=',')\n",
    "houses = pd.DataFrame(data2, columns=['Area', 'Bedrooms', 'Price'])\n",
    "houses"
   ]
  },
  {
   "cell_type": "markdown",
   "metadata": {},
   "source": [
    "### 7. features normalization"
   ]
  },
  {
   "cell_type": "code",
   "execution_count": 487,
   "metadata": {},
   "outputs": [],
   "source": [
    "# Normalizes the features in X:\n",
    "#   returns a normalized version of X where\n",
    "#   the mean value of each feature is 0 and the standard deviation is 1\n",
    "def feature_normalization(X):\n",
    "    mu = X.mean(axis=0)\n",
    "    sigma = X.std(axis=0)\n",
    "    return (X - mu) / sigma, mu, sigma"
   ]
  },
  {
   "cell_type": "code",
   "execution_count": 488,
   "metadata": {},
   "outputs": [
    {
     "data": {
      "text/html": [
       "<div>\n",
       "<style scoped>\n",
       "    .dataframe tbody tr th:only-of-type {\n",
       "        vertical-align: middle;\n",
       "    }\n",
       "\n",
       "    .dataframe tbody tr th {\n",
       "        vertical-align: top;\n",
       "    }\n",
       "\n",
       "    .dataframe thead th {\n",
       "        text-align: right;\n",
       "    }\n",
       "</style>\n",
       "<table border=\"1\" class=\"dataframe\">\n",
       "  <thead>\n",
       "    <tr style=\"text-align: right;\">\n",
       "      <th></th>\n",
       "      <th>Area</th>\n",
       "      <th>Bedrooms</th>\n",
       "    </tr>\n",
       "  </thead>\n",
       "  <tbody>\n",
       "    <tr>\n",
       "      <th>count</th>\n",
       "      <td>4.700000e+01</td>\n",
       "      <td>4.700000e+01</td>\n",
       "    </tr>\n",
       "    <tr>\n",
       "      <th>mean</th>\n",
       "      <td>3.779483e-17</td>\n",
       "      <td>2.185013e-16</td>\n",
       "    </tr>\n",
       "    <tr>\n",
       "      <th>std</th>\n",
       "      <td>1.000000e+00</td>\n",
       "      <td>1.000000e+00</td>\n",
       "    </tr>\n",
       "    <tr>\n",
       "      <th>min</th>\n",
       "      <td>-1.445423e+00</td>\n",
       "      <td>-2.851859e+00</td>\n",
       "    </tr>\n",
       "    <tr>\n",
       "      <th>25%</th>\n",
       "      <td>-7.155897e-01</td>\n",
       "      <td>-2.236752e-01</td>\n",
       "    </tr>\n",
       "    <tr>\n",
       "      <th>50%</th>\n",
       "      <td>-1.417900e-01</td>\n",
       "      <td>-2.236752e-01</td>\n",
       "    </tr>\n",
       "    <tr>\n",
       "      <th>75%</th>\n",
       "      <td>3.376348e-01</td>\n",
       "      <td>1.090417e+00</td>\n",
       "    </tr>\n",
       "    <tr>\n",
       "      <th>max</th>\n",
       "      <td>3.117292e+00</td>\n",
       "      <td>2.404508e+00</td>\n",
       "    </tr>\n",
       "  </tbody>\n",
       "</table>\n",
       "</div>"
      ],
      "text/plain": [
       "               Area      Bedrooms\n",
       "count  4.700000e+01  4.700000e+01\n",
       "mean   3.779483e-17  2.185013e-16\n",
       "std    1.000000e+00  1.000000e+00\n",
       "min   -1.445423e+00 -2.851859e+00\n",
       "25%   -7.155897e-01 -2.236752e-01\n",
       "50%   -1.417900e-01 -2.236752e-01\n",
       "75%    3.376348e-01  1.090417e+00\n",
       "max    3.117292e+00  2.404508e+00"
      ]
     },
     "execution_count": 488,
     "metadata": {},
     "output_type": "execute_result"
    }
   ],
   "source": [
    "X2 = houses[['Area', 'Bedrooms']]\n",
    "X2_norm, mu, sigma = feature_normalization(X2)\n",
    "X2_norm.describe()"
   ]
  },
  {
   "cell_type": "code",
   "execution_count": 489,
   "metadata": {},
   "outputs": [],
   "source": [
    "y2 = houses[['Price']]\n",
    "_, n2 = houses.shape\n",
    "\n",
    "X2.insert(0, 'theta_0', 1)\n",
    "X2_norm.insert(0, 'theta_0', 1)"
   ]
  },
  {
   "cell_type": "code",
   "execution_count": 490,
   "metadata": {},
   "outputs": [
    {
     "name": "stdout",
     "output_type": "stream",
     "text": [
      "theta1:\t[6.96485826e-02 1.49853133e+02 2.24735775e-01]\n",
      "theta2:\t[ 3.38658249e+05  1.04127516e+05 -1.72205334e+02]\n"
     ]
    }
   ],
   "source": [
    "t1 = np.zeros((1, n2)).T\n",
    "t2 = np.zeros((1, n2)).T\n",
    "(theta1, j_history) = gradient_descent(X2, y2, t1, 0.00000001, 50)\n",
    "(theta2, j_norm_history) = gradient_descent(X2_norm, y2, t2, 0.1, 50)\n",
    "print(f'theta1:\\t{theta1.ravel()}\\ntheta2:\\t{theta2.ravel()}')"
   ]
  },
  {
   "cell_type": "code",
   "execution_count": 435,
   "metadata": {},
   "outputs": [
    {
     "data": {
      "image/png": "[encoded data removed]",
      "text/plain": [
       "<Figure size 432x288 with 1 Axes>"
      ]
     },
     "metadata": {
      "needs_background": "light"
     },
     "output_type": "display_data"
    }
   ],
   "source": [
    "p1 = plt.plot(range(len(j_history)), j_history, color='black')\n",
    "p2 = plt.plot(range(len(j_norm_history)), j_norm_history, color='red')\n",
    "plt.legend((p1[0], p2[0]), ('raw', 'normalized'))\n",
    "plt.show()"
   ]
  },
  {
   "cell_type": "markdown",
   "metadata": {},
   "source": [
    "### 8. multi gradient descent with vectorizing"
   ]
  },
  {
   "cell_type": "code",
   "execution_count": 436,
   "metadata": {},
   "outputs": [
    {
     "name": "stdout",
     "output_type": "stream",
     "text": [
      "theta_mul:\t[334302.06399328 100087.11600585   3673.54845093]\n"
     ]
    }
   ],
   "source": [
    "alpha = 0.01\n",
    "iterations = 400\n",
    "\n",
    "\n",
    "(theta_mul, _) = gradient_descent(X2_norm, y2, np.zeros((1, n2)).T, alpha, iterations)\n",
    "print(f'theta_mul:\\t{theta_mul.ravel()}')"
   ]
  },
  {
   "cell_type": "markdown",
   "metadata": {},
   "source": [
    "### 9. execution time"
   ]
  },
  {
   "cell_type": "code",
   "execution_count": 437,
   "metadata": {},
   "outputs": [
    {
     "name": "stdout",
     "output_type": "stream",
     "text": [
      "theta_timer:\t[340412.65900156 110620.78816241  -6639.21215439]\ttime:0.02559936400211882\n"
     ]
    }
   ],
   "source": [
    "from timeit import default_timer\n",
    "\n",
    "iterations = 1000\n",
    "alpha = 0.02\n",
    "\n",
    "start = default_timer()\n",
    "(theta_timer, _) = gradient_descent(X2_norm.to_numpy(), y2.to_numpy(), np.zeros((1, n2)).T, alpha, iterations)\n",
    "end = default_timer()\n",
    "print(f'theta_timer:\\t{theta_timer.ravel()}\\ttime:{end - start}')"
   ]
  },
  {
   "cell_type": "markdown",
   "metadata": {},
   "source": [
    "### 10. ɑ varying plot"
   ]
  },
  {
   "cell_type": "code",
   "execution_count": 458,
   "metadata": {},
   "outputs": [],
   "source": [
    "def draw_alphas(iterations):\n",
    "    alphas = np.linspace(0.1, 0.001, num=7)\n",
    "    plots = []\n",
    "    for alpha in alphas:\n",
    "        (theta, j_hist) = gradient_descent(X2_norm.to_numpy(), y2.to_numpy(), np.zeros((1, n2)).T, alpha, iterations)\n",
    "        p = plt.plot(range(len(j_hist)), j_hist)\n",
    "        plots.append(p[0])\n",
    "    \n",
    "    plt.title(f'iterations: {iterations}')\n",
    "    plt.legend(plots, [f'Alpha: {a:.3f}' for a in alphas])\n",
    "    plt.show()"
   ]
  },
  {
   "cell_type": "code",
   "execution_count": 462,
   "metadata": {},
   "outputs": [
    {
     "data": {
      "image/png": "[encoded data removed]",
      "text/plain": [
       "<Figure size 432x288 with 1 Axes>"
      ]
     },
     "metadata": {
      "needs_background": "light"
     },
     "output_type": "display_data"
    },
    {
     "data": {
      "image/png": "[encoded data removed]",
      "text/plain": [
       "<Figure size 432x288 with 1 Axes>"
      ]
     },
     "metadata": {
      "needs_background": "light"
     },
     "output_type": "display_data"
    },
    {
     "data": {
      "image/png": "[encoded data removed]",
      "text/plain": [
       "<Figure size 432x288 with 1 Axes>"
      ]
     },
     "metadata": {
      "needs_background": "light"
     },
     "output_type": "display_data"
    }
   ],
   "source": [
    "draw_alphas(30)\n",
    "draw_alphas(60)\n",
    "draw_alphas(100)"
   ]
  },
  {
   "cell_type": "markdown",
   "metadata": {},
   "source": [
    "### 11. least squares"
   ]
  },
  {
   "cell_type": "code",
   "execution_count": 548,
   "metadata": {},
   "outputs": [],
   "source": [
    "# computes the closed-form solution to linear regression using the normal equations\n",
    "def normal_eqn(X, y):\n",
    "    XX = np.asmatrix(X)\n",
    "    XT = XX.T\n",
    "    return np.array([float(el) for el in ((XT @ XX).I @ XT) @ y])"
   ]
  },
  {
   "cell_type": "code",
   "execution_count": 557,
   "metadata": {},
   "outputs": [
    {
     "name": "stdout",
     "output_type": "stream",
     "text": [
      "theta_sq:\t[89597.9095428    139.21067402 -8738.01911233]\n",
      "theta_gd:\t[334302.06399328 100087.11600585   3673.54845093]\n"
     ]
    }
   ],
   "source": [
    "theta_sq = normal_eqn(X2.to_numpy(), y2.to_numpy())\n",
    "print(f'theta_sq:\\t{theta_sq.ravel()}\\ntheta_gd:\\t{theta_mul.ravel()}')"
   ]
  },
  {
   "cell_type": "code",
   "execution_count": 560,
   "metadata": {},
   "outputs": [
    {
     "name": "stdout",
     "output_type": "stream",
     "text": [
      "price_sq:\t317754.00698679825\n",
      "price_gd:\t324368.29504053446\n"
     ]
    }
   ],
   "source": [
    "AREA = 1890\n",
    "ROOMS = 4\n",
    "\n",
    "price_sq = np.array([1, AREA, ROOMS]) @ theta_sq.T\n",
    "price_gd = (np.array([1, (AREA - mu[0]) / sigma[0], (ROOMS - mu[1]) / sigma[1]]) @ theta_mul)[0]\n",
    "print(f'price_sq:\\t{price_sq}\\nprice_gd:\\t{price_gd}')"
   ]
  },
  {
   "cell_type": "markdown",
   "metadata": {},
   "source": [
    "### 12. conclusion"
   ]
  },
  {
   "cell_type": "markdown",
   "metadata": {},
   "source": [
    "В лабараторной работе были рассмотрены случаи линейной и многомерной регресии с помощью методов **градиентного спуска** [#4] а также аналититеского метода **наименьших квадратов** [#11].\n",
    "\n",
    "В работе использовался язык программирования **Python**, интерактиваня среда разработки **Jupyter** а также библиотеки `numpy`, `pandas` и `matplotlib`\n",
    "\n",
    "- Как видно из графика [#7] нормализация увеличивает скорость сходимости градиентного спуска.\n",
    "- В пункте #10 показана зависимость скорости сходимости от параметра ɑ и количества итераций.\n",
    "- В пункте #11 метод градиентного спуска сравнивается с методом наименьших квадратов."
   ]
  },
  {
   "cell_type": "code",
   "execution_count": null,
   "metadata": {},
   "outputs": [],
   "source": []
  }
 ],
 "metadata": {
  "kernelspec": {
   "display_name": "Python 2",
   "language": "python",
   "name": "python2"
  },
  "language_info": {
   "codemirror_mode": {
    "name": "ipython",
    "version": 2
   },
   "file_extension": ".py",
   "mimetype": "text/x-python",
   "name": "python",
   "nbconvert_exporter": "python",
   "pygments_lexer": "ipython2",
   "version": "2.7.17"
  }
 },
 "nbformat": 4,
 "nbformat_minor": 2
}
